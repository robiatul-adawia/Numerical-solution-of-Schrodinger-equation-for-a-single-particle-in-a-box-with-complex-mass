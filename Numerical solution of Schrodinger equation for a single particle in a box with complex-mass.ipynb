{
 "cells": [
  {
   "cell_type": "markdown",
   "metadata": {},
   "source": [
    "## Solusi Numerik Persamaan Schrodinger Sistem Bermassa Kompleks Pada Potensial Kotak\n",
    "\n",
    "**Dimodifikasi dari program: I Wayan Sudiarta**\n",
    "<br><br>Solusi analitik dalam penyelesaian persamaan Schroedinger dengan sistem bermassa kompleks dimensi satu yang terdiri dari bagian riil  𝑚𝑅=1  (konstan) dan bagian imajjiner ( 𝑚𝐼1−  dan  𝑚𝐼2+ ).\n",
    "<br>Last update: 08-Nov-2021"
   ]
  },
  {
   "cell_type": "code",
   "execution_count": 1,
   "metadata": {},
   "outputs": [],
   "source": [
    "%matplotlib inline\n",
    "\n",
    "from numpy import linalg as la\n",
    "import numpy as np\n",
    "import matplotlib.pyplot as plt"
   ]
  },
  {
   "cell_type": "markdown",
   "metadata": {},
   "source": [
    "### Menyelesaikan persamaan Schrodinger"
   ]
  },
  {
   "cell_type": "code",
   "execution_count": 2,
   "metadata": {},
   "outputs": [],
   "source": [
    "# Buat matriks tridiagonal untuk pers. Schrodinger\n",
    "# jumlah grid\n",
    "N = 100\n",
    "\n",
    "# spasi/selang \\Delta x \n",
    "L = 10.0\n",
    "dx = L/N\n",
    "\n",
    "# complex mass\n",
    "m = np.ones(N-1, dtype = complex)\n",
    "\n",
    "# assign values for mass\n",
    "mi = 0.0j\n",
    "for i in range(len(m)):\n",
    "    if (i+1) < N//2:\n",
    "        m[i] = 1 - mi\n",
    "    elif (i+1) == N//2:\n",
    "        m[i] = 1\n",
    "    else:\n",
    "        m[i] = 1 + mi\n",
    "        \n",
    "\n",
    "# alpha_i = 1/m_i\n",
    "alpha = 1/m \n",
    "\n",
    "# membentuk matriks H\n",
    "h1 = np.diag( 2*alpha[0:N-1], k = 0)   # diagonal\n",
    "h2 = np.diag(-1*alpha[1:N-1], k = -1)  # below\n",
    "h3 = np.diag(-1*alpha[0:N-2], k = 1)   # above\n",
    "\n",
    "# matriks\n",
    "h = h1 + h2 + h3"
   ]
  },
  {
   "cell_type": "markdown",
   "metadata": {},
   "source": [
    "Catatan: w berisi nilai-nilai eigen dan v berisi vektor-vektor eigen. "
   ]
  },
  {
   "cell_type": "code",
   "execution_count": 3,
   "metadata": {},
   "outputs": [],
   "source": [
    "# Hitung nilai eigen\n",
    "w, v = la.eig(h)"
   ]
  },
  {
   "cell_type": "code",
   "execution_count": 4,
   "metadata": {},
   "outputs": [],
   "source": [
    "energi = w/(2*dx**2)\n",
    "#energi"
   ]
  },
  {
   "cell_type": "code",
   "execution_count": 5,
   "metadata": {},
   "outputs": [
    {
     "name": "stdout",
     "output_type": "stream",
     "text": [
      "0.049343963426841 39 (0.049343963426841+0j)\n"
     ]
    }
   ],
   "source": [
    "# Nilai energi ground state\n",
    "gs = np.min(np.real(energi))\n",
    "\n",
    "# indeks pada array\n",
    "igs = np.argmin(np.real(energi))\n",
    "\n",
    "# cetak hasil\n",
    "print(gs, igs, energi[igs])"
   ]
  },
  {
   "cell_type": "code",
   "execution_count": 6,
   "metadata": {
    "scrolled": true
   },
   "outputs": [
    {
     "data": {
      "text/plain": [
       "0.31622776601683794"
      ]
     },
     "execution_count": 6,
     "metadata": {},
     "output_type": "execute_result"
    }
   ],
   "source": [
    "# Plot fungsi gelombang keadaan dasar\n",
    "# tambahkan psi = 0 di batas\n",
    "psi = np.concatenate(([0j],v[:,igs],[0j]), axis = 0)\n",
    "psi_r = np.concatenate(([0],v[:,igs].real,[0]), axis = 0)\n",
    "psi_i = np.concatenate(([0],v[:,igs].imag,[0]), axis = 0)\n",
    "\n",
    "# posisi x\n",
    "x0 = L/2\n",
    "x = np.arange(N+1)*dx - x0\n",
    "\n",
    "# normalisasi\n",
    "norm = float(np.sqrt(np.sum(np.conj(psi)*psi)*dx).real)\n",
    "psi = psi/norm\n",
    "norm"
   ]
  },
  {
   "cell_type": "code",
   "execution_count": 7,
   "metadata": {},
   "outputs": [
    {
     "name": "stdout",
     "output_type": "stream",
     "text": [
      "[4.93439634e-02+0.j 1.97327157e-01+0.j 4.43803540e-01+0.j\n",
      " 7.88529869e-01+0.j 1.23116594e+00+0.j 1.77127493e+00+0.j\n",
      " 2.40832381e+00+0.j 3.14168389e+00+0.j 3.97063143e+00+0.j\n",
      " 4.89434837e+00+0.j 5.91192310e+00+0.j 7.02235141e+00+0.j\n",
      " 8.22453743e+00+0.j 9.51729475e+00+0.j 1.08993476e+01+0.j\n",
      " 1.23693320e+01+0.j 1.39257973e+01+0.j 1.55672074e+01+0.j\n",
      " 1.72919426e+01+0.j 1.90983006e+01+0.j 2.09844988e+01+0.j\n",
      " 2.29486757e+01+0.j 2.49888930e+01+0.j 2.71031373e+01+0.j\n",
      " 2.92893219e+01+0.j 3.15452894e+01+0.j 3.38688135e+01+0.j\n",
      " 3.62576010e+01+0.j 3.87092946e+01+0.j 4.12214748e+01+0.j\n",
      " 4.37916622e+01+0.j 4.64173205e+01+0.j 4.90958584e+01+0.j\n",
      " 5.18246326e+01+0.j 5.46009500e+01+0.j 5.74220708e+01+0.j\n",
      " 6.02852109e+01+0.j 6.31875447e+01+0.j 6.61262080e+01+0.j\n",
      " 6.90983006e+01+0.j 7.21008894e+01+0.j 7.51310113e+01+0.j\n",
      " 7.81856759e+01+0.j 8.12618685e+01+0.j 8.43565535e+01+0.j\n",
      " 8.74666766e+01+0.j 9.05891687e+01+0.j 9.37209480e+01+0.j\n",
      " 9.68589241e+01+0.j 1.00000000e+02+0.j 1.03141076e+02+0.j\n",
      " 1.06279052e+02+0.j 1.09410831e+02+0.j 1.12533323e+02+0.j\n",
      " 1.15643447e+02+0.j 1.18738131e+02+0.j 1.21814324e+02+0.j\n",
      " 1.24868989e+02+0.j 1.27899111e+02+0.j 1.30901699e+02+0.j\n",
      " 1.33873792e+02+0.j 1.36812455e+02+0.j 1.39714789e+02+0.j\n",
      " 1.42577929e+02+0.j 1.45399050e+02+0.j 1.48175367e+02+0.j\n",
      " 1.50904142e+02+0.j 1.53582679e+02+0.j 1.56208338e+02+0.j\n",
      " 1.58778525e+02+0.j 1.61290705e+02+0.j 1.63742399e+02+0.j\n",
      " 1.66131187e+02+0.j 1.68454711e+02+0.j 1.70710678e+02+0.j\n",
      " 1.72896863e+02+0.j 1.75011107e+02+0.j 1.77051324e+02+0.j\n",
      " 1.79015501e+02+0.j 1.80901699e+02+0.j 1.82708057e+02+0.j\n",
      " 1.84432793e+02+0.j 1.86074203e+02+0.j 1.87630668e+02+0.j\n",
      " 1.89100652e+02+0.j 1.90482705e+02+0.j 1.91775463e+02+0.j\n",
      " 1.92977649e+02+0.j 1.94088077e+02+0.j 1.95105652e+02+0.j\n",
      " 1.96029369e+02+0.j 1.96858316e+02+0.j 1.97591676e+02+0.j\n",
      " 1.98228725e+02+0.j 1.98768834e+02+0.j 1.99211470e+02+0.j\n",
      " 1.99556196e+02+0.j 1.99802673e+02+0.j 1.99950656e+02+0.j]\n"
     ]
    }
   ],
   "source": [
    "#mengurutkan energi dari terkecil ke terbesar\n",
    "#dari keadaan dasar hingga eksitasi\n",
    "indeks_sort = np.argsort(energi)\n",
    "energi2 = energi[indeks_sort]\n",
    "print(energi2)"
   ]
  },
  {
   "cell_type": "code",
   "execution_count": 8,
   "metadata": {
    "scrolled": true
   },
   "outputs": [
    {
     "data": {
      "image/png": "[encoded data removed]",
      "text/plain": [
       "<Figure size 432x288 with 1 Axes>"
      ]
     },
     "metadata": {
      "needs_background": "light"
     },
     "output_type": "display_data"
    }
   ],
   "source": [
    "#plot fungsi gelombang\n",
    "#keadaan ke n = 0, 1, . . .\n",
    "n = 0\n",
    "psin = v[:, indeks_sort[n]]\n",
    "psin = np.insert(psin, 0, 0)\n",
    "psin = np.insert(psin, len(psin),0)\n",
    "psin = psin/norm\n",
    "\n",
    "plt.plot(x, psin.real, 'rx')\n",
    "plt.plot(x, psin.imag, '--b')\n",
    "plt.xticks(np.arange(-5, 6))\n",
    "plt.plot(x, np.absolute(psin), 'g')\n",
    "plt.legend([\"riil\", \"imajiner\", \"absolut\"], loc= \"upper right\", prop={'size':10})\n",
    "\n",
    "plt.xlabel('$x$')\n",
    "plt.ylabel('$\\psi(x)$')\n",
    "\n",
    "plt.savefig('E:\\\\scriptpsi\\\\grafik\\\\fungsigelombang\\\\psi_num_m'+ str(mi) +'n' + str(n)+'.png', dpi=500,  bbox_inches=\"tight\")\n",
    "plt.show()"
   ]
  },
  {
   "cell_type": "code",
   "execution_count": 9,
   "metadata": {},
   "outputs": [],
   "source": [
    "# Compute current\n",
    "dd = (psin[2:(N+1)] - psin[0:(N-1)])/(2*dx)\n",
    "jj = (np.conj(psin[1:N])*dd - psin[1:N]*np.conj(dd))/(2*1j*m)\n",
    "\n",
    "# Take real part and add jj = 0 at the boundary\n",
    "arus = np.concatenate(([0],jj.real,[0]), axis = 0)\n",
    "arus_i = np.concatenate(([0],jj.imag,[0]), axis = 0)"
   ]
  },
  {
   "cell_type": "code",
   "execution_count": 10,
   "metadata": {},
   "outputs": [
    {
     "data": {
      "image/png": "[encoded data removed]",
      "text/plain": [
       "<Figure size 432x288 with 1 Axes>"
      ]
     },
     "metadata": {
      "needs_background": "light"
     },
     "output_type": "display_data"
    }
   ],
   "source": [
    "#arus riil\n",
    "plt.plot(x, arus, '--', markersize=3)\n",
    "plt.xticks(np.arange(-5, 6))\n",
    "plt.savefig('E:\\\\scriptpsi\\\\grafik\\\\arus\\\\j_num_m'+ str(mi) +'n' + str(n)+'.png', dpi=500,  bbox_inches=\"tight\")\n",
    "plt.xlabel('$x$')\n",
    "plt.ylabel ('$j(x)$ riil')\n",
    "plt.show()"
   ]
  },
  {
   "cell_type": "code",
   "execution_count": 11,
   "metadata": {},
   "outputs": [],
   "source": [
    "#simpan array sebagai file csv\n",
    "from numpy import asarray\n",
    "from numpy import savetxt\n",
    "\n",
    "#simpan fungsi gelombang\n",
    "savetxt('E:\\scriptpsi\\data\\psi_numerik_realm'+str(mi)+'n'+str(n)+'.csv', psin.real, delimiter=',')\n",
    "savetxt('E:\\scriptpsi\\data\\psi_numerik_imagm'+str(mi)+'n'+str(n)+'.csv', psin.imag, delimiter=',')\n",
    "savetxt('E:\\scriptpsi\\data\\psi_numerik_absm'+str(mi)+'n'+str(n)+'.csv', np.absolute(psin), delimiter=',')\n",
    "\n",
    "#simpan arus densitas\n",
    "savetxt('E:\\scriptpsi\\data\\j_numerik_realm'+str(mi)+'n'+str(n)+'.csv', arus, delimiter=',')"
   ]
  },
  {
   "cell_type": "code",
   "execution_count": null,
   "metadata": {},
   "outputs": [],
   "source": []
  }
 ],
 "metadata": {
  "kernelspec": {
   "display_name": "Python 3",
   "language": "python",
   "name": "python3"
  },
  "language_info": {
   "codemirror_mode": {
    "name": "ipython",
    "version": 3
   },
   "file_extension": ".py",
   "mimetype": "text/x-python",
   "name": "python",
   "nbconvert_exporter": "python",
   "pygments_lexer": "ipython3",
   "version": "3.7.4"
  }
 },
 "nbformat": 4,
 "nbformat_minor": 4
}
